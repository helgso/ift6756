{
 "cells": [
  {
   "cell_type": "markdown",
   "metadata": {},
   "source": [
    "# GymGo exploration"
   ]
  },
  {
   "cell_type": "code",
   "execution_count": 1,
   "metadata": {},
   "outputs": [],
   "source": [
    "import gym\n",
    "import numpy as np\n",
    "\n",
    "n = 9\n",
    "env = gym.make('gym_go:go-v0', size=n, komi=0, reward_method='real')"
   ]
  },
  {
   "cell_type": "code",
   "execution_count": 15,
   "metadata": {},
   "outputs": [
    {
     "data": {
      "text/plain": [
       "0.0"
      ]
     },
     "execution_count": 15,
     "metadata": {},
     "output_type": "execute_result"
    }
   ],
   "source": [
    "env.reset()\n",
    "env.step((2,2))\n",
    "env.step((2,3))\n",
    "env.step(None)\n",
    "state, reward, done, info = env.step(None)\n",
    "reward"
   ]
  },
  {
   "cell_type": "markdown",
   "metadata": {},
   "source": [
    "## General play test"
   ]
  },
  {
   "cell_type": "code",
   "execution_count": 26,
   "metadata": {},
   "outputs": [
    {
     "name": "stdout",
     "output_type": "stream",
     "text": [
      "    0   1   2   3   4   5   6   7   8\n",
      "  -------------------------------------\n",
      "0 |   |   | B |   |   |   |   |   |   |\n",
      "  -------------------------------------\n",
      "1 |   |   | W |   |   |   |   |   |   |\n",
      "  -------------------------------------\n",
      "2 |   | W |   | W |   |   |   |   |   |\n",
      "  -------------------------------------\n",
      "3 |   |   | W |   |   |   |   |   |   |\n",
      "  -------------------------------------\n",
      "4 |   |   |   |   |   |   |   |   |   |\n",
      "  -------------------------------------\n",
      "5 |   |   |   |   |   | B |   |   |   |\n",
      "  -------------------------------------\n",
      "6 |   |   |   |   |   |   | W |   |   |\n",
      "  -------------------------------------\n",
      "7 |   |   | B |   |   |   |   | B |   |\n",
      "  -------------------------------------\n",
      "8 |   |   |   |   |   |   |   |   |   |\n",
      "  -------------------------------------\n",
      "\tTurn: B, Last Turn Passed: True, Game Over: 1\n",
      "\tBlack Area: 4.0, White Area: 6.0\n",
      "\n",
      "Game over? True\n",
      "Who won? White.\n"
     ]
    }
   ],
   "source": [
    "env.reset()\n",
    "state, reward, done, info = env.step((0,2)) # White\n",
    "env.step((2,2)) # Black\n",
    "env.step((3,2)) # White\n",
    "env.step((7,2)) # Black\n",
    "env.step((2,3)) # White\n",
    "env.step((5,5)) # Black\n",
    "env.step((2,1)) # White\n",
    "env.step((7,7)) # Black\n",
    "env.step((1,2)) # White\n",
    "env.step(None)  # Black passes\n",
    "state, reward, done, info = env.step(None)  # White passes\n",
    "\n",
    "# White wins with an area of 5 vs. black's area of 3\n",
    "env.render('terminal')\n",
    "print(f\"Game over? {done == 1}\")\n",
    "print(f\"Who won? \", end='')\n",
    "if reward == -1:\n",
    "    print(\"White.\")\n",
    "elif reward == 1:\n",
    "    print(\"Black.\")\n",
    "else:\n",
    "    print(\"It was a tie.\")"
   ]
  },
  {
   "cell_type": "code",
   "execution_count": 22,
   "metadata": {},
   "outputs": [
    {
     "data": {
      "text/plain": [
       "array([[[0., 0., 1., 0., 0., 0., 0., 0., 0.],\n",
       "        [0., 0., 0., 0., 0., 0., 0., 0., 0.],\n",
       "        [0., 0., 0., 0., 0., 0., 0., 0., 0.],\n",
       "        [0., 0., 0., 0., 0., 0., 0., 0., 0.],\n",
       "        [0., 0., 0., 0., 0., 0., 0., 0., 0.],\n",
       "        [0., 0., 0., 0., 0., 0., 0., 0., 0.],\n",
       "        [0., 0., 0., 0., 0., 0., 0., 0., 0.],\n",
       "        [0., 0., 0., 0., 0., 0., 0., 0., 0.],\n",
       "        [0., 0., 0., 0., 0., 0., 0., 0., 0.]],\n",
       "\n",
       "       [[0., 0., 0., 0., 0., 0., 0., 0., 0.],\n",
       "        [0., 0., 0., 0., 0., 0., 0., 0., 0.],\n",
       "        [0., 0., 0., 0., 0., 0., 0., 0., 0.],\n",
       "        [0., 0., 0., 0., 0., 0., 0., 0., 0.],\n",
       "        [0., 0., 0., 0., 0., 0., 0., 0., 0.],\n",
       "        [0., 0., 0., 0., 0., 0., 0., 0., 0.],\n",
       "        [0., 0., 0., 0., 0., 0., 0., 0., 0.],\n",
       "        [0., 0., 0., 0., 0., 0., 0., 0., 0.],\n",
       "        [0., 0., 0., 0., 0., 0., 0., 0., 0.]],\n",
       "\n",
       "       [[1., 1., 1., 1., 1., 1., 1., 1., 1.],\n",
       "        [1., 1., 1., 1., 1., 1., 1., 1., 1.],\n",
       "        [1., 1., 1., 1., 1., 1., 1., 1., 1.],\n",
       "        [1., 1., 1., 1., 1., 1., 1., 1., 1.],\n",
       "        [1., 1., 1., 1., 1., 1., 1., 1., 1.],\n",
       "        [1., 1., 1., 1., 1., 1., 1., 1., 1.],\n",
       "        [1., 1., 1., 1., 1., 1., 1., 1., 1.],\n",
       "        [1., 1., 1., 1., 1., 1., 1., 1., 1.],\n",
       "        [1., 1., 1., 1., 1., 1., 1., 1., 1.]],\n",
       "\n",
       "       [[0., 0., 1., 0., 0., 0., 0., 0., 0.],\n",
       "        [0., 0., 0., 0., 0., 0., 0., 0., 0.],\n",
       "        [0., 0., 0., 0., 0., 0., 0., 0., 0.],\n",
       "        [0., 0., 0., 0., 0., 0., 0., 0., 0.],\n",
       "        [0., 0., 0., 0., 0., 0., 0., 0., 0.],\n",
       "        [0., 0., 0., 0., 0., 0., 0., 0., 0.],\n",
       "        [0., 0., 0., 0., 0., 0., 0., 0., 0.],\n",
       "        [0., 0., 0., 0., 0., 0., 0., 0., 0.],\n",
       "        [0., 0., 0., 0., 0., 0., 0., 0., 0.]],\n",
       "\n",
       "       [[1., 1., 1., 1., 1., 1., 1., 1., 1.],\n",
       "        [1., 1., 1., 1., 1., 1., 1., 1., 1.],\n",
       "        [1., 1., 1., 1., 1., 1., 1., 1., 1.],\n",
       "        [1., 1., 1., 1., 1., 1., 1., 1., 1.],\n",
       "        [1., 1., 1., 1., 1., 1., 1., 1., 1.],\n",
       "        [1., 1., 1., 1., 1., 1., 1., 1., 1.],\n",
       "        [1., 1., 1., 1., 1., 1., 1., 1., 1.],\n",
       "        [1., 1., 1., 1., 1., 1., 1., 1., 1.],\n",
       "        [1., 1., 1., 1., 1., 1., 1., 1., 1.]],\n",
       "\n",
       "       [[1., 1., 1., 1., 1., 1., 1., 1., 1.],\n",
       "        [1., 1., 1., 1., 1., 1., 1., 1., 1.],\n",
       "        [1., 1., 1., 1., 1., 1., 1., 1., 1.],\n",
       "        [1., 1., 1., 1., 1., 1., 1., 1., 1.],\n",
       "        [1., 1., 1., 1., 1., 1., 1., 1., 1.],\n",
       "        [1., 1., 1., 1., 1., 1., 1., 1., 1.],\n",
       "        [1., 1., 1., 1., 1., 1., 1., 1., 1.],\n",
       "        [1., 1., 1., 1., 1., 1., 1., 1., 1.],\n",
       "        [1., 1., 1., 1., 1., 1., 1., 1., 1.]]])"
      ]
     },
     "execution_count": 22,
     "metadata": {},
     "output_type": "execute_result"
    }
   ],
   "source": [
    "state"
   ]
  },
  {
   "cell_type": "markdown",
   "metadata": {},
   "source": [
    "## Invalid moves test\n",
    "Check GymGo's implementation of invalid moves"
   ]
  },
  {
   "cell_type": "code",
   "execution_count": 3,
   "metadata": {},
   "outputs": [
    {
     "name": "stdout",
     "output_type": "stream",
     "text": [
      "    0   1   2   3   4   5   6   7   8\n",
      "  -------------------------------------\n",
      "0 | W | W | . | . | . | . | . | . | . |\n",
      "  -------------------------------------\n",
      "1 | . | . | . | . | . | . | . | . | . |\n",
      "  -------------------------------------\n",
      "2 | . | . | . | . | . | . | . | . | . |\n",
      "  -------------------------------------\n",
      "3 | . | . | . | . | . | . | . | . | . |\n",
      "  -------------------------------------\n",
      "4 | . | . | . | . | . | . | . | . | . |\n",
      "  -------------------------------------\n",
      "5 | . | . | . | . | . | . | . | . | . |\n",
      "  -------------------------------------\n",
      "6 | . | . | . | . | . | . | . | . | . |\n",
      "  -------------------------------------\n",
      "7 | . | . | . | . | . | . | . | B | B |\n",
      "  -------------------------------------\n",
      "8 | . | . | . | . | . | . | . | B | . |\n",
      "  -------------------------------------\n",
      "\tTurn: W, Last Turn Passed: False, Game Over: 0\n",
      "\tBlack Area: 4.0, White Area: 2.0\n",
      "\n"
     ]
    }
   ],
   "source": [
    "env.reset()\n",
    "black_moves = [(7,7), (8,7), (7,8)]\n",
    "white_moves = [(0,0), (0,1), (8,8)] \n",
    "\n",
    "env.reset()\n",
    "env.step((7,7)) # Black\n",
    "env.step((0,0)) # White\n",
    "env.step((8,7)) # Black\n",
    "env.step((0,1)) # White\n",
    "state, reward, done, info = env.step((7,8)) # Black\n",
    "\n",
    "# Show board so far\n",
    "env.render('terminal')"
   ]
  },
  {
   "cell_type": "code",
   "execution_count": 4,
   "metadata": {},
   "outputs": [
    {
     "name": "stdout",
     "output_type": "stream",
     "text": [
      "Information about the board at this point in time:\n",
      "{'turn': 1, 'invalid_moves': array([1., 1., 0., 0., 0., 0., 0., 0., 0., 0., 0., 0., 0., 0., 0., 0., 0.,\n",
      "       0., 0., 0., 0., 0., 0., 0., 0., 0., 0., 0., 0., 0., 0., 0., 0., 0.,\n",
      "       0., 0., 0., 0., 0., 0., 0., 0., 0., 0., 0., 0., 0., 0., 0., 0., 0.,\n",
      "       0., 0., 0., 0., 0., 0., 0., 0., 0., 0., 0., 0., 0., 0., 0., 0., 0.,\n",
      "       0., 0., 1., 1., 0., 0., 0., 0., 0., 0., 0., 1., 1., 0.]), 'prev_player_passed': False}\n"
     ]
    }
   ],
   "source": [
    "print(\"Information about the board at this point in time:\")\n",
    "print(info)"
   ]
  },
  {
   "cell_type": "code",
   "execution_count": 5,
   "metadata": {},
   "outputs": [
    {
     "name": "stdout",
     "output_type": "stream",
     "text": [
      "Who's turn is it? White's.\n"
     ]
    }
   ],
   "source": [
    "print(\"Who's turn is it? \", end='')\n",
    "if info['turn'] == 1:\n",
    "    print(\"White's.\")\n",
    "else:\n",
    "    print(\"Black's.\")"
   ]
  },
  {
   "cell_type": "code",
   "execution_count": 6,
   "metadata": {},
   "outputs": [
    {
     "name": "stdout",
     "output_type": "stream",
     "text": [
      "Which moves are invalid? These ones:\n",
      "[[0 0]\n",
      " [0 1]\n",
      " [7 7]\n",
      " [7 8]\n",
      " [8 7]\n",
      " [8 8]]\n"
     ]
    }
   ],
   "source": [
    "print(\"Which moves are invalid? These ones:\")\n",
    "invalid_white_moves = np.argwhere(info['invalid_moves'][:-1].reshape(n,n) == 1) # -1 because the last entry is whether it is forbidden to pass or not\n",
    "print(invalid_white_moves)"
   ]
  },
  {
   "cell_type": "markdown",
   "metadata": {},
   "source": [
    "All the moves mentioned above are invalid because there is already stone there, except for at the last illegal position.\n",
    "\n",
    "This last move (8,8) is considered a suicide: If white places a stone here, the stone immediately has no liberties. It is therefore an illegal move:"
   ]
  },
  {
   "cell_type": "code",
   "execution_count": 7,
   "metadata": {},
   "outputs": [
    {
     "name": "stdout",
     "output_type": "stream",
     "text": [
      "('Invalid move', (8, 8))\n"
     ]
    }
   ],
   "source": [
    "# Perform suicide (White plays (8,8))\n",
    "try:\n",
    "    env.step((8,8))\n",
    "except AssertionError as e:\n",
    "    print(e)"
   ]
  }
 ],
 "metadata": {
  "kernelspec": {
   "display_name": "ift6756",
   "language": "python",
   "name": "ift6756"
  },
  "language_info": {
   "codemirror_mode": {
    "name": "ipython",
    "version": 3
   },
   "file_extension": ".py",
   "mimetype": "text/x-python",
   "name": "python",
   "nbconvert_exporter": "python",
   "pygments_lexer": "ipython3",
   "version": "3.7.6"
  }
 },
 "nbformat": 4,
 "nbformat_minor": 4
}
